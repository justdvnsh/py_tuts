{
 "cells": [
  {
   "cell_type": "markdown",
   "metadata": {},
   "source": [
    "## Programming"
   ]
  },
  {
   "cell_type": "markdown",
   "metadata": {},
   "source": [
    "#### Static vs Dynamic Programming language\n",
    "\n",
    "Static is a language where , we need to define the content explicitly .\n",
    "cpp -> int age = 18\n",
    "cpp -> string age = '18'\n",
    "\n",
    "Dynamic is a language where , you do not need to define the content explicitly.\n",
    "python -> age = 18 ; age = '18'"
   ]
  },
  {
   "cell_type": "markdown",
   "metadata": {},
   "source": [
    "## Data types \n",
    "\n",
    "int -> -ve to +ve values .\n",
    "\n",
    "string -> 'absdakahjgdskas dbkjah 18 aksjbdkasjdb !!@*(#^!(@*#&!(@*#&'\n",
    "\n",
    "float -> decimal values. -1 -> -1.00\n",
    "\n",
    "double -> decimal values . "
   ]
  },
  {
   "cell_type": "markdown",
   "metadata": {},
   "source": [
    "#### variables\n",
    "\n",
    "Can be considered as containers or storage boxes which hold any type of value.\n",
    "\n",
    "eg -> age = 18.00\n",
    "\n",
    "#### Constants\n",
    "\n",
    "Values which remain constant throughout the execution time. \n"
   ]
  },
  {
   "cell_type": "code",
   "execution_count": 1,
   "metadata": {},
   "outputs": [],
   "source": [
    "age = 18 "
   ]
  },
  {
   "cell_type": "code",
   "execution_count": 2,
   "metadata": {},
   "outputs": [
    {
     "data": {
      "text/plain": [
       "18"
      ]
     },
     "execution_count": 2,
     "metadata": {},
     "output_type": "execute_result"
    }
   ],
   "source": [
    "age"
   ]
  },
  {
   "cell_type": "code",
   "execution_count": 3,
   "metadata": {},
   "outputs": [
    {
     "data": {
      "text/plain": [
       "19"
      ]
     },
     "execution_count": 3,
     "metadata": {},
     "output_type": "execute_result"
    }
   ],
   "source": [
    "age = 19\n",
    "age"
   ]
  },
  {
   "cell_type": "code",
   "execution_count": 4,
   "metadata": {},
   "outputs": [
    {
     "data": {
      "text/plain": [
       "18"
      ]
     },
     "execution_count": 4,
     "metadata": {},
     "output_type": "execute_result"
    }
   ],
   "source": [
    "AGE = 18 \n",
    "AGE"
   ]
  },
  {
   "cell_type": "code",
   "execution_count": 9,
   "metadata": {},
   "outputs": [
    {
     "data": {
      "text/plain": [
       "24"
      ]
     },
     "execution_count": 9,
     "metadata": {},
     "output_type": "execute_result"
    }
   ],
   "source": [
    "CONST = 12\n",
    "\n",
    "def add(val1):\n",
    "    return val1 + CONST\n",
    "\n",
    "def add_2(val1):\n",
    "    return val1 + CONST\n",
    "\n",
    "def add_3(val1):\n",
    "    return val1 + CONST\n",
    "\n",
    "def add_4(val1):\n",
    "    return val1 + CONST\n",
    "\n",
    "add(12)"
   ]
  },
  {
   "cell_type": "markdown",
   "metadata": {},
   "source": [
    "#### Keywords\n",
    "\n",
    "values which cannnot be used as vars or const.\n",
    "\n",
    "int , str, input, def "
   ]
  },
  {
   "cell_type": "markdown",
   "metadata": {},
   "source": [
    "#### Data Structures\n",
    "\n",
    "Lists/Arrays\n",
    "Dictionaries/Objects\n",
    "Tuples\n",
    "\n",
    "1) Lists. - A data structure which can hold many value and is mutable.\n",
    "\n",
    "age = [1,2,3,4,5,6,7,8,9,10, 'hello', 'goodbye', 1.00, 9.00]"
   ]
  },
  {
   "cell_type": "code",
   "execution_count": 12,
   "metadata": {},
   "outputs": [
    {
     "data": {
      "text/plain": [
       "['hello', 2, 3, 4, 5, 6, 7, 8, 9, 10, 'hello', 'goodbye', 1.0, 9.0]"
      ]
     },
     "execution_count": 12,
     "metadata": {},
     "output_type": "execute_result"
    }
   ],
   "source": [
    "age =  ['hello',2,3,4,5,6,7,8,9,10, 'hello', 'goodbye', 1.00, 9.00]\n",
    "age"
   ]
  },
  {
   "cell_type": "code",
   "execution_count": 13,
   "metadata": {},
   "outputs": [
    {
     "data": {
      "text/plain": [
       "'hello'"
      ]
     },
     "execution_count": 13,
     "metadata": {},
     "output_type": "execute_result"
    }
   ],
   "source": [
    "age[0]"
   ]
  },
  {
   "cell_type": "code",
   "execution_count": 14,
   "metadata": {},
   "outputs": [
    {
     "data": {
      "text/plain": [
       "2"
      ]
     },
     "execution_count": 14,
     "metadata": {},
     "output_type": "execute_result"
    }
   ],
   "source": [
    "age[1]"
   ]
  },
  {
   "cell_type": "code",
   "execution_count": 15,
   "metadata": {},
   "outputs": [
    {
     "data": {
      "text/plain": [
       "'hello ashwin'"
      ]
     },
     "execution_count": 15,
     "metadata": {},
     "output_type": "execute_result"
    }
   ],
   "source": [
    "age[0] = 'hello ashwin'\n",
    "age[0]"
   ]
  },
  {
   "cell_type": "code",
   "execution_count": 16,
   "metadata": {},
   "outputs": [
    {
     "data": {
      "text/plain": [
       "['hello ashwin', 2, 3, 4, 5, 6, 7, 8, 9, 10, 'hello', 'goodbye', 1.0, 9.0]"
      ]
     },
     "execution_count": 16,
     "metadata": {},
     "output_type": "execute_result"
    }
   ],
   "source": [
    "age"
   ]
  },
  {
   "cell_type": "code",
   "execution_count": 17,
   "metadata": {},
   "outputs": [
    {
     "data": {
      "text/plain": [
       "[2, 3, 4, 5, 6, 7, 8, 9, 10]"
      ]
     },
     "execution_count": 17,
     "metadata": {},
     "output_type": "execute_result"
    }
   ],
   "source": [
    "## (0,1) [1,10] [1,10)\n",
    "age_2 = age[1:10]\n",
    "age_2"
   ]
  },
  {
   "cell_type": "code",
   "execution_count": 19,
   "metadata": {},
   "outputs": [],
   "source": [
    "greetings = age[0]\n",
    "greetings_2 = age[10:12]\n",
    "new_greetings = [greetings, greetings_2]"
   ]
  },
  {
   "cell_type": "raw",
   "metadata": {},
   "source": []
  }
 ],
 "metadata": {
  "kernelspec": {
   "display_name": "Python 3",
   "language": "python",
   "name": "python3"
  },
  "language_info": {
   "codemirror_mode": {
    "name": "ipython",
    "version": 3
   },
   "file_extension": ".py",
   "mimetype": "text/x-python",
   "name": "python",
   "nbconvert_exporter": "python",
   "pygments_lexer": "ipython3",
   "version": "3.6.5"
  }
 },
 "nbformat": 4,
 "nbformat_minor": 2
}
