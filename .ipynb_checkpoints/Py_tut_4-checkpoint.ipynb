{
 "cells": [
  {
   "cell_type": "markdown",
   "metadata": {},
   "source": [
    "## Lecture 4\n",
    "\n",
    "## String And File Manipulation ."
   ]
  },
  {
   "cell_type": "markdown",
   "metadata": {},
   "source": [
    "__String Manipulation__ is a formatting method for string. Since we know , that Strings are a type of data , thus we need some formatting technique to manipulate it. "
   ]
  },
  {
   "cell_type": "markdown",
   "metadata": {},
   "source": [
    "#### Concatenation.  - which is a technique to add two strings together."
   ]
  },
  {
   "cell_type": "code",
   "execution_count": 1,
   "metadata": {},
   "outputs": [
    {
     "data": {
      "text/plain": [
       "'HelloABC'"
      ]
     },
     "execution_count": 1,
     "metadata": {},
     "output_type": "execute_result"
    }
   ],
   "source": [
    "str1 = 'Hello'\n",
    "str2 = 'ABC'\n",
    "\n",
    "str1 + str2"
   ]
  },
  {
   "cell_type": "markdown",
   "metadata": {},
   "source": [
    "Here we can see that , there is no space , as we haven't added it . To add a space , we need to add a space manually."
   ]
  },
  {
   "cell_type": "code",
   "execution_count": 2,
   "metadata": {},
   "outputs": [
    {
     "data": {
      "text/plain": [
       "'Hello ABC'"
      ]
     },
     "execution_count": 2,
     "metadata": {},
     "output_type": "execute_result"
    }
   ],
   "source": [
    "str1 + ' ' + str2"
   ]
  },
  {
   "cell_type": "markdown",
   "metadata": {},
   "source": [
    "Here, we can see that, this method is useful , for shorter texts or strings , but when we have a larger string or text to manipulate, adding spaces, new lines etc can be a very tedious task. Thus we need to have a second option intact, which is __formatting__."
   ]
  },
  {
   "cell_type": "markdown",
   "metadata": {},
   "source": [
    "Formatting is just a technique to manipulate the string all at once."
   ]
  },
  {
   "cell_type": "code",
   "execution_count": 5,
   "metadata": {},
   "outputs": [
    {
     "name": "stdout",
     "output_type": "stream",
     "text": [
      "Hello, my name is A . And I am here to learn.\n",
      "Hello, my name is B . And I am here to learn.\n",
      "Hello, my name is c . And I am here to learn.\n",
      "Hello, my name is D . And I am here to learn.\n",
      "Hello, my name is E . And I am here to learn.\n",
      "Hello, my name is F . And I am here to learn.\n",
      "Hello, my name is G . And I am here to learn.\n",
      "Hello, my name is H . And I am here to learn.\n"
     ]
    }
   ],
   "source": [
    "string = 'Hello, my name is {} . And I am here to learn.'\n",
    "names = ['A','B','c','D','E','F','G','H']\n",
    "\n",
    "for name in names:\n",
    "    print(string.format(name))"
   ]
  },
  {
   "cell_type": "markdown",
   "metadata": {},
   "source": [
    "Here , we can see that, the __format__ function helped us save a lot of time. If we have used the __concatenation__ method , we would have been in trouble as the method was too long and time consuming for the manipulation. "
   ]
  },
  {
   "cell_type": "code",
   "execution_count": 9,
   "metadata": {},
   "outputs": [
    {
     "name": "stdout",
     "output_type": "stream",
     "text": [
      "Hello my name is A and my age is 18.\n",
      "Hello my name is B and my age is 19.\n",
      "Hello my name is C and my age is 17.\n",
      "Hello my name is D and my age is 21.\n",
      "Hello my name is E and my age is 22.\n"
     ]
    }
   ],
   "source": [
    "string = 'Hello my name is {0} and my age is {1}.'\n",
    "names_and_ages = [\n",
    "    {\n",
    "        'name':'A',\n",
    "        'age': 18\n",
    "    },\n",
    "    {\n",
    "        'name': 'B',\n",
    "        'age': 19\n",
    "    },\n",
    "    {\n",
    "        'name': 'C',\n",
    "        'age': 17\n",
    "    },\n",
    "    {\n",
    "        'name': 'D',\n",
    "        'age': 21\n",
    "    },\n",
    "    {\n",
    "        'name': 'E',\n",
    "        'age': 22\n",
    "    }\n",
    "]\n",
    "\n",
    "for name_and_age in names_and_ages:\n",
    "    print(string.format(name_and_age['name'], name_and_age['age']))"
   ]
  },
  {
   "cell_type": "markdown",
   "metadata": {},
   "source": [
    "In the example above, the __{0} and {1}__ are called __arguments__, of the format method . So, anywhere , where the function will see {0} or {1} it will be replaced by the respective variable value."
   ]
  },
  {
   "cell_type": "markdown",
   "metadata": {},
   "source": [
    "But , here is a drawback, that , if you have used {0} and {1} , then the first parameter of the __format__ function will always be used by the {0} and similarly the second one will be used by the {1} . But you can change this behaviour , by naming your arguments by yourself."
   ]
  },
  {
   "cell_type": "code",
   "execution_count": 10,
   "metadata": {},
   "outputs": [
    {
     "name": "stdout",
     "output_type": "stream",
     "text": [
      "Hello my name is A and my age is 18.\n",
      "Hello my name is B and my age is 19.\n",
      "Hello my name is C and my age is 17.\n",
      "Hello my name is D and my age is 21.\n",
      "Hello my name is E and my age is 22.\n"
     ]
    }
   ],
   "source": [
    "string = 'Hello my name is {name_to_be_replaced} and my age is {age}.'\n",
    "names_and_ages = [\n",
    "    {\n",
    "        'name':'A',\n",
    "        'age': 18\n",
    "    },\n",
    "    {\n",
    "        'name': 'B',\n",
    "        'age': 19\n",
    "    },\n",
    "    {\n",
    "        'name': 'C',\n",
    "        'age': 17\n",
    "    },\n",
    "    {\n",
    "        'name': 'D',\n",
    "        'age': 21\n",
    "    },\n",
    "    {\n",
    "        'name': 'E',\n",
    "        'age': 22\n",
    "    }\n",
    "]\n",
    "\n",
    "for name_and_age in names_and_ages:\n",
    "    print(string.format(age=name_and_age['age'], name_to_be_replaced=name_and_age['name']))"
   ]
  },
  {
   "cell_type": "markdown",
   "metadata": {},
   "source": [
    "Here as, we can see , that using this convention , we made normal arguments into keyword arguments. Now , we can pass the values , howsoever we want."
   ]
  },
  {
   "cell_type": "markdown",
   "metadata": {},
   "source": [
    "There is one more method which can be used, and you might remember it from the __SQL__ classes, which is the __%__ method ."
   ]
  },
  {
   "cell_type": "code",
   "execution_count": 13,
   "metadata": {},
   "outputs": [
    {
     "name": "stdout",
     "output_type": "stream",
     "text": [
      "Hello my name is A. And I love cricket !\n",
      "Hello my name is B. And I love football !\n",
      "Hello my name is C. And I love tennis !\n",
      "Hello my name is D. And I love Badminton !\n",
      "Hello my name is E. And I love Hockey !\n"
     ]
    }
   ],
   "source": [
    "string = 'Hello my name is %s. And I love %s !'\n",
    "\n",
    "names_and_loves = [\n",
    "    {\n",
    "        'name':'A',\n",
    "        'love': 'cricket'\n",
    "    },\n",
    "    {\n",
    "        'name': 'B',\n",
    "        'love': 'football'\n",
    "    },\n",
    "    {\n",
    "        'name': 'C',\n",
    "        'love': 'tennis'\n",
    "    },\n",
    "    {\n",
    "        'name': 'D',\n",
    "        'love': 'Badminton'\n",
    "    },\n",
    "    {\n",
    "        'name': 'E',\n",
    "        'love': 'Hockey'\n",
    "    }\n",
    "]\n",
    "\n",
    "\n",
    "for name_and_love in names_and_loves:\n",
    "    print(string %(name_and_love['name'], name_and_love['love']))"
   ]
  },
  {
   "cell_type": "markdown",
   "metadata": {},
   "source": [
    "It is working same as __concat__ or __format__ method . It behaves similarly as the argument passed format method . It as also, accepts the first parameter for the first value , and second one for second value and so on."
   ]
  },
  {
   "cell_type": "markdown",
   "metadata": {},
   "source": [
    "If you have to incase print the __%__ sign , you would use the %% sign twice."
   ]
  },
  {
   "cell_type": "code",
   "execution_count": 16,
   "metadata": {},
   "outputs": [
    {
     "name": "stdout",
     "output_type": "stream",
     "text": [
      "%s method is same as concat method and format method .\n"
     ]
    }
   ],
   "source": [
    "print('%%s method is same as %s method and %s method .' %('concat', 'format'))"
   ]
  },
  {
   "cell_type": "markdown",
   "metadata": {},
   "source": [
    "Similar to the __%s__ method is the __%f__ method , which prints the float numbers as we want."
   ]
  },
  {
   "cell_type": "code",
   "execution_count": 17,
   "metadata": {},
   "outputs": [
    {
     "name": "stdout",
     "output_type": "stream",
     "text": [
      "The 2 decimal places value for PI is 3.00\n"
     ]
    }
   ],
   "source": [
    "print('The 2 decimal places value for PI is %0.2f' %(3))"
   ]
  },
  {
   "cell_type": "code",
   "execution_count": 19,
   "metadata": {},
   "outputs": [
    {
     "name": "stdout",
     "output_type": "stream",
     "text": [
      "The 2 decimal places value for PI is 3.14\n"
     ]
    }
   ],
   "source": [
    "print('The 2 decimal places value for PI is %0.2f' %(3.14))"
   ]
  },
  {
   "cell_type": "code",
   "execution_count": 20,
   "metadata": {},
   "outputs": [
    {
     "name": "stdout",
     "output_type": "stream",
     "text": [
      "The 2 decimal places value for PI is 3.15\n"
     ]
    }
   ],
   "source": [
    "print('The 2 decimal places value for PI is %0.2f' %(3.14526162387346872123))"
   ]
  },
  {
   "cell_type": "code",
   "execution_count": 21,
   "metadata": {},
   "outputs": [
    {
     "name": "stdout",
     "output_type": "stream",
     "text": [
      "The 2 decimal places value for PI is 3.000000\n"
     ]
    }
   ],
   "source": [
    "print('The 2 decimal places value for PI is %0.6f' %(3))"
   ]
  },
  {
   "cell_type": "markdown",
   "metadata": {},
   "source": [
    "the number after 0 decides the decimal places for the value of the floating point number passed in ."
   ]
  },
  {
   "cell_type": "markdown",
   "metadata": {},
   "source": [
    "---"
   ]
  },
  {
   "cell_type": "markdown",
   "metadata": {},
   "source": [
    "#### File Manipulation - which is a technique to manipulate files on a system"
   ]
  },
  {
   "cell_type": "code",
   "execution_count": 24,
   "metadata": {},
   "outputs": [
    {
     "name": "stdout",
     "output_type": "stream",
     "text": [
      "## Py_tuts\n",
      "\n",
      "These are basic python tutorials or maybe revision notes for beginners in python programming language. Everyone can access these notes, whenever possible so that ,\n",
      "no one is deprived from learning programming. Also, These tuts are basic learningpackage  for machine learning and deep learning.\n"
     ]
    }
   ],
   "source": [
    "file = open('README.md', 'r')\n",
    "content = file.read()\n",
    "print(content)\n",
    "file.close()"
   ]
  },
  {
   "cell_type": "code",
   "execution_count": 28,
   "metadata": {},
   "outputs": [],
   "source": [
    "names_and_loves = [\n",
    "    {\n",
    "        'name':'A',\n",
    "        'love': 'cricket'\n",
    "    },\n",
    "    {\n",
    "        'name': 'B',\n",
    "        'love': 'football'\n",
    "    },\n",
    "    {\n",
    "        'name': 'C',\n",
    "        'love': 'tennis'\n",
    "    },\n",
    "    {\n",
    "        'name': 'D',\n",
    "        'love': 'Badminton'\n",
    "    },\n",
    "    {\n",
    "        'name': 'E',\n",
    "        'love': 'Hockey'\n",
    "    }\n",
    "]\n",
    "\n",
    "file = open('new_file.txt', 'w')\n",
    "for name_and_love in names_and_loves:\n",
    "    file.write(name_and_love['name'])\n",
    "    file.write('\\t')\n",
    "    file.write(name_and_love['love'])\n",
    "    file.write('\\n')\n",
    "file.close()"
   ]
  },
  {
   "cell_type": "markdown",
   "metadata": {},
   "source": [
    "Here if , you see , using the __w__ method , we will find that , the old content gets lost and only the new content remains. If we do not want this , we should use the __w+__ method."
   ]
  },
  {
   "cell_type": "code",
   "execution_count": 31,
   "metadata": {},
   "outputs": [],
   "source": [
    "file = open('new_file.txt', 'w+')\n",
    "for name_and_age in names_and_ages:\n",
    "    file.write(name_and_age['name'])\n",
    "    file.write('\\t')\n",
    "    file.write(str(name_and_age['age']))\n",
    "    file.write('\\n')\n",
    "file.close()"
   ]
  },
  {
   "cell_type": "code",
   "execution_count": null,
   "metadata": {},
   "outputs": [],
   "source": []
  }
 ],
 "metadata": {
  "kernelspec": {
   "display_name": "Python 3",
   "language": "python",
   "name": "python3"
  },
  "language_info": {
   "codemirror_mode": {
    "name": "ipython",
    "version": 3
   },
   "file_extension": ".py",
   "mimetype": "text/x-python",
   "name": "python",
   "nbconvert_exporter": "python",
   "pygments_lexer": "ipython3",
   "version": "3.6.5"
  }
 },
 "nbformat": 4,
 "nbformat_minor": 2
}
