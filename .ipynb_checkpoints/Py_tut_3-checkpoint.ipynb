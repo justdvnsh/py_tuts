{
 "cells": [
  {
   "cell_type": "markdown",
   "metadata": {},
   "source": [
    "## Lecture 3"
   ]
  },
  {
   "cell_type": "markdown",
   "metadata": {},
   "source": [
    "## Conditionals and Loops"
   ]
  },
  {
   "cell_type": "markdown",
   "metadata": {},
   "source": [
    "__Conditionals__ , are used whenever , we want our program to make decisions . Using conditinals like __if,else__ gives the program the ability to make decisions based on the rules we provide it."
   ]
  },
  {
   "cell_type": "markdown",
   "metadata": {},
   "source": [
    "For example , if we want our program to only allow users to vote if they are above 18, we use conditionals."
   ]
  },
  {
   "cell_type": "code",
   "execution_count": 3,
   "metadata": {},
   "outputs": [
    {
     "name": "stdout",
     "output_type": "stream",
     "text": [
      "Enter your age :- 20\n"
     ]
    },
    {
     "data": {
      "text/plain": [
       "'eligible to vote.'"
      ]
     },
     "execution_count": 3,
     "metadata": {},
     "output_type": "execute_result"
    }
   ],
   "source": [
    "age = int(input('Enter your age :- ')) ## remember , input always returns a string . So keep in mind to convert the integer \n",
    "#input to integer.\n",
    "\n",
    "def eligible_to_vote(age):\n",
    "    if age >= 18:\n",
    "        return 'eligible to vote.'\n",
    "    else:\n",
    "        return 'Not eligible'\n",
    "    \n",
    "eligible_to_vote(age)"
   ]
  },
  {
   "cell_type": "markdown",
   "metadata": {},
   "source": [
    "Similarly , we can have as many cases as we want using __elif__ keyword."
   ]
  },
  {
   "cell_type": "markdown",
   "metadata": {},
   "source": [
    "Lets say , we want to make a program , to sell candy to only boys below age 10 , sell chocolates to only boys from 11 - 17 and cigarettes to 18 and above ."
   ]
  },
  {
   "cell_type": "code",
   "execution_count": 4,
   "metadata": {},
   "outputs": [
    {
     "name": "stdout",
     "output_type": "stream",
     "text": [
      "Enter your age , boy :- 20\n"
     ]
    },
    {
     "data": {
      "text/plain": [
       "'Cigarettes'"
      ]
     },
     "execution_count": 4,
     "metadata": {},
     "output_type": "execute_result"
    }
   ],
   "source": [
    "age = int(input('Enter your age , boy :- '))\n",
    "\n",
    "def sell(age):\n",
    "    if age <= 10 :\n",
    "        return 'Candy'\n",
    "    elif age >= 11 and age <= 17:\n",
    "        return 'Chocolcates'\n",
    "    else:\n",
    "        return 'Cigarettes'\n",
    "    \n",
    "sell(age)"
   ]
  },
  {
   "cell_type": "markdown",
   "metadata": {},
   "source": [
    "Now, we can have as many __elif__ conditions as we want."
   ]
  },
  {
   "cell_type": "markdown",
   "metadata": {},
   "source": [
    "---"
   ]
  },
  {
   "cell_type": "markdown",
   "metadata": {},
   "source": [
    "__Loops__ are used when we want to iterate over something. They can also be used to make the repetetive tasks smaller and efficient, passing the email to 100 clients or maybe writing something over and over again."
   ]
  },
  {
   "cell_type": "markdown",
   "metadata": {},
   "source": [
    "There are 3 main loops , __for__ being the most popular one ."
   ]
  },
  {
   "cell_type": "markdown",
   "metadata": {},
   "source": [
    "Lets say we want to print tables from 1 to 10 , we can use loops\n"
   ]
  },
  {
   "cell_type": "code",
   "execution_count": 6,
   "metadata": {},
   "outputs": [
    {
     "name": "stdout",
     "output_type": "stream",
     "text": [
      "Enter the number:-10\n",
      "10\n",
      "20\n",
      "30\n",
      "40\n",
      "50\n",
      "60\n",
      "70\n",
      "80\n",
      "90\n",
      "100\n"
     ]
    }
   ],
   "source": [
    "table = int(input('Enter the number:-'))\n",
    "\n",
    "def print_table(table):\n",
    "    for x in range(1,11): ## since 11 is not included\n",
    "        print(table * x)\n",
    "    \n",
    "print_table(table)"
   ]
  },
  {
   "cell_type": "markdown",
   "metadata": {},
   "source": [
    "Similarly, we have __while__ loop, which is used when we do not know when the condition is going to end. While loops are most common in game developement, because , a program cannot have the idea , when the user is going to quit, or die."
   ]
  },
  {
   "cell_type": "markdown",
   "metadata": {},
   "source": [
    "Lets say we want to make a program to keep taking in the input , till the user keeps saying yes."
   ]
  },
  {
   "cell_type": "code",
   "execution_count": 1,
   "metadata": {},
   "outputs": [
    {
     "name": "stdout",
     "output_type": "stream",
     "text": [
      "Enter your input:-yes\n",
      "Enter your inputyes\n",
      "Enter your inputno\n"
     ]
    }
   ],
   "source": [
    "def yes(inp):\n",
    "    while inp == 'yes':\n",
    "        inp = input('Enter your input')\n",
    "\n",
    "yes(input('Enter your input:-'))"
   ]
  },
  {
   "cell_type": "markdown",
   "metadata": {},
   "source": [
    "There are 2 more important keywords , __break__ and __continue__, which as the name suggests , the __break__ keyword, breaks the loop and __continue__ keyword, leaves the value at the spot and continues from the next value."
   ]
  },
  {
   "cell_type": "code",
   "execution_count": 7,
   "metadata": {},
   "outputs": [
    {
     "name": "stdout",
     "output_type": "stream",
     "text": [
      "1\n",
      "2\n",
      "3\n",
      "4\n"
     ]
    }
   ],
   "source": [
    "for x in range(1,11):\n",
    "    if x == 5:\n",
    "        break\n",
    "    else:\n",
    "        print(x)"
   ]
  },
  {
   "cell_type": "code",
   "execution_count": 8,
   "metadata": {},
   "outputs": [
    {
     "name": "stdout",
     "output_type": "stream",
     "text": [
      "1\n",
      "2\n",
      "3\n",
      "4\n",
      "6\n",
      "7\n",
      "8\n",
      "9\n",
      "10\n"
     ]
    }
   ],
   "source": [
    "for x in range(1,11):\n",
    "    if x == 5:\n",
    "        continue\n",
    "    else:\n",
    "        print(x)"
   ]
  },
  {
   "cell_type": "markdown",
   "metadata": {},
   "source": [
    "Range() , function can also be used with 3 values/ arguments , that are -\n",
    "\n",
    "- First is the value you want to start from\n",
    "\n",
    "- Second is the value you want to end at\n",
    "\n",
    "- Third is the value , you want to skip to."
   ]
  },
  {
   "cell_type": "code",
   "execution_count": 12,
   "metadata": {},
   "outputs": [
    {
     "name": "stdout",
     "output_type": "stream",
     "text": [
      "1\n",
      "3\n",
      "5\n",
      "7\n",
      "9\n",
      "11\n",
      "13\n",
      "15\n",
      "17\n",
      "19\n"
     ]
    }
   ],
   "source": [
    "for i in range(1,21,2):\n",
    "    print(i)"
   ]
  },
  {
   "cell_type": "markdown",
   "metadata": {},
   "source": [
    "You can also , use loops to iterate over files , or different types of data-structures. Like you can iterate over dictionaries or lists or tuples."
   ]
  },
  {
   "cell_type": "code",
   "execution_count": 14,
   "metadata": {},
   "outputs": [
    {
     "name": "stdout",
     "output_type": "stream",
     "text": [
      "1\n",
      "2\n",
      "3\n",
      "4\n",
      "5\n",
      "6\n",
      "7\n",
      "8\n",
      "9\n",
      "name\n",
      "age\n",
      "gender\n",
      "12\n",
      "13\n",
      "14\n",
      "15\n"
     ]
    }
   ],
   "source": [
    "lis = [1,2,3,4,5,6,7,8,9]\n",
    "dic = {\n",
    "    'name': 'abc',\n",
    "    'age': 19,\n",
    "    'gender': None\n",
    "}\n",
    "tup = (12,13,14,15)\n",
    "\n",
    "for i in lis:\n",
    "    print(i)\n",
    "    \n",
    "for i in dic:\n",
    "    print(i)\n",
    "    \n",
    "for i in tup:\n",
    "    print(i)"
   ]
  },
  {
   "cell_type": "markdown",
   "metadata": {},
   "source": [
    "In the example above , the loop iterates over the __keys__ of the dictionary and not the values because , you can access the values using the keys ."
   ]
  },
  {
   "cell_type": "markdown",
   "metadata": {},
   "source": [
    "----"
   ]
  },
  {
   "cell_type": "code",
   "execution_count": null,
   "metadata": {},
   "outputs": [],
   "source": []
  }
 ],
 "metadata": {
  "kernelspec": {
   "display_name": "Python 3",
   "language": "python",
   "name": "python3"
  },
  "language_info": {
   "codemirror_mode": {
    "name": "ipython",
    "version": 3
   },
   "file_extension": ".py",
   "mimetype": "text/x-python",
   "name": "python",
   "nbconvert_exporter": "python",
   "pygments_lexer": "ipython3",
   "version": "3.6.5"
  }
 },
 "nbformat": 4,
 "nbformat_minor": 2
}
